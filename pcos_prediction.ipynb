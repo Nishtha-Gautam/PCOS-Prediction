{
  "nbformat": 4,
  "nbformat_minor": 0,
  "metadata": {
    "colab": {
      "provenance": []
    },
    "kernelspec": {
      "name": "python3",
      "display_name": "Python 3"
    },
    "language_info": {
      "name": "python"
    }
  },
  "cells": [
    {
      "cell_type": "code",
      "source": [
        "from google.colab import drive\n",
        "drive.mount('/content/drive')\n"
      ],
      "metadata": {
        "colab": {
          "base_uri": "https://localhost:8080/"
        },
        "id": "-HFjI2IGv2sm",
        "outputId": "7d07dd6a-ccc0-49af-fca1-eb343154c62c"
      },
      "execution_count": null,
      "outputs": [
        {
          "output_type": "stream",
          "name": "stdout",
          "text": [
            "Mounted at /content/drive\n"
          ]
        }
      ]
    },
    {
      "cell_type": "code",
      "source": [
        "import os\n",
        "import zipfile\n",
        "import joblib\n",
        "import numpy as np\n",
        "import pandas as pd\n",
        "import matplotlib.pyplot as plt\n",
        "\n",
        "from datetime import datetime\n",
        "\n",
        "# Scikit-learn\n",
        "from sklearn.experimental import enable_iterative_imputer  # noqa\n",
        "from sklearn.impute import IterativeImputer\n",
        "from sklearn.preprocessing import StandardScaler\n",
        "from sklearn.feature_selection import f_classif, RFE\n",
        "from sklearn.linear_model import LogisticRegression, LassoCV\n",
        "from sklearn.model_selection import train_test_split, GridSearchCV, StratifiedKFold\n",
        "from sklearn.svm import SVC\n",
        "from sklearn.neural_network import MLPClassifier\n",
        "from sklearn.ensemble import RandomForestRegressor\n",
        "from sklearn.metrics import (\n",
        "    accuracy_score,\n",
        "    precision_score,\n",
        "    roc_auc_score,\n",
        "    roc_curve,\n",
        "    auc,\n",
        ")\n",
        "from sklearn.utils.class_weight import compute_class_weight\n",
        "\n",
        "# XGBoost\n",
        "from xgboost import XGBClassifier\n"
      ],
      "metadata": {
        "id": "R8hE9RdFLbAO"
      },
      "execution_count": null,
      "outputs": []
    },
    {
      "cell_type": "code",
      "source": [
        "# Path to ZIP file\n",
        "zip_path = \"/content/drive/MyDrive/pcos/data/archive (1).zip\"\n",
        "\n",
        "# Extracting ZIP\n",
        "with zipfile.ZipFile(zip_path, 'r') as zip_ref:\n",
        "    zip_ref.extractall(\"/content/pcos_dataset\")  # Extract to a chosen folder\n",
        "\n",
        "# STEP 3: Defining Excel file and sheet\n",
        "excel_path = \"/content/pcos_dataset/PCOS_data_without_infertility.xlsx\"\n",
        "sheet_name = \"Full_new\"\n",
        "\n",
        "# STEP 4: Load data from sheet\n",
        "df = pd.read_excel(excel_path, sheet_name=sheet_name)\n",
        "\n",
        "print(df.head())"
      ],
      "metadata": {
        "colab": {
          "base_uri": "https://localhost:8080/"
        },
        "id": "3-J7oVIjycZa",
        "outputId": "805e4659-01da-438d-a6ab-dd86f37faf62"
      },
      "execution_count": null,
      "outputs": [
        {
          "output_type": "stream",
          "name": "stdout",
          "text": [
            "   Sl. No  Patient File No.  PCOS (Y/N)   Age (yrs)  Weight (Kg)  Height(Cm)   \\\n",
            "0       1                 1           0          28         44.6        152.0   \n",
            "1       2                 2           0          36         65.0        161.5   \n",
            "2       3                 3           1          33         68.8        165.0   \n",
            "3       4                 4           0          37         65.0        148.0   \n",
            "4       5                 5           0          25         52.0        161.0   \n",
            "\n",
            "         BMI  Blood Group  Pulse rate(bpm)   RR (breaths/min)  ...  \\\n",
            "0  19.300000           15                78                22  ...   \n",
            "1  24.921163           15                74                20  ...   \n",
            "2  25.270891           11                72                18  ...   \n",
            "3  29.674945           13                72                20  ...   \n",
            "4  20.060954           11                72                18  ...   \n",
            "\n",
            "   Fast food (Y/N)  Reg.Exercise(Y/N)  BP _Systolic (mmHg)  \\\n",
            "0              1.0                  0                  110   \n",
            "1              0.0                  0                  120   \n",
            "2              1.0                  0                  120   \n",
            "3              0.0                  0                  120   \n",
            "4              0.0                  0                  120   \n",
            "\n",
            "   BP _Diastolic (mmHg)  Follicle No. (L)  Follicle No. (R)  \\\n",
            "0                    80                 3                 3   \n",
            "1                    70                 3                 5   \n",
            "2                    80                13                15   \n",
            "3                    70                 2                 2   \n",
            "4                    80                 3                 4   \n",
            "\n",
            "   Avg. F size (L) (mm) Avg. F size (R) (mm)  Endometrium (mm)  Unnamed: 44  \n",
            "0                  18.0                 18.0               8.5          NaN  \n",
            "1                  15.0                 14.0               3.7          NaN  \n",
            "2                  18.0                 20.0              10.0          NaN  \n",
            "3                  15.0                 14.0               7.5          NaN  \n",
            "4                  16.0                 14.0               7.0          NaN  \n",
            "\n",
            "[5 rows x 45 columns]\n"
          ]
        }
      ]
    },
    {
      "cell_type": "code",
      "source": [
        "# Load dataset\n",
        "excel_path = \"/content/pcos_dataset/PCOS_data_without_infertility.xlsx\"\n",
        "sheet_name = \"Full_new\"\n",
        "\n",
        "df = pd.read_excel(excel_path, sheet_name=sheet_name)\n",
        "\n",
        "# Separating numeric and non-numeric columns\n",
        "numeric_cols = df.select_dtypes(include=[np.number]).columns\n",
        "non_numeric_cols = df.select_dtypes(exclude=[np.number]).columns\n",
        "\n",
        "# Initialize MICE imputer (MAR assumption: using other observed variables as predictors)\n",
        "imputer = IterativeImputer(\n",
        "    estimator=RandomForestRegressor(),  # Handles nonlinear medical data well\n",
        "    max_iter=10,\n",
        "    random_state=42\n",
        ")\n",
        "\n",
        "# Applying MICE to numeric columns\n",
        "numeric_data_imputed = imputer.fit_transform(df[numeric_cols])\n",
        "\n",
        "# Rebuild the DataFrame\n",
        "df_imputed = pd.DataFrame(numeric_data_imputed, columns=numeric_cols)\n",
        "df_final = pd.concat([df_imputed, df[non_numeric_cols].reset_index(drop=True)], axis=1)\n",
        "\n",
        "# Save to Excel\n",
        "output_path = \"/content/drive/MyDrive/pcos/after_mice.xlsx\"\n",
        "df_final.to_excel(output_path, index=False)\n",
        "\n",
        "print(f\"✅ MICE imputation complete. File saved at: {output_path}\")\n"
      ],
      "metadata": {
        "colab": {
          "base_uri": "https://localhost:8080/"
        },
        "id": "LLFTV7X73ez9",
        "outputId": "ae8b9106-40fc-4404-c3e6-28b6f83b8663"
      },
      "execution_count": null,
      "outputs": [
        {
          "output_type": "stream",
          "name": "stdout",
          "text": [
            "✅ MICE imputation complete. File saved at: /content/drive/MyDrive/pcos/after_mice.xlsx\n"
          ]
        }
      ]
    },
    {
      "cell_type": "code",
      "source": [
        "# File paths\n",
        "input_path = \"/content/drive/MyDrive/pcos/after_mice.xlsx\"\n",
        "output_path = \"/content/drive/MyDrive/pcos/ANOVA_pcos.xlsx\"\n",
        "\n",
        "# Read the dataset\n",
        "df = pd.read_excel(input_path)\n",
        "\n",
        "# Remove the unwanted column if it exists\n",
        "if 'Unnamed: 44' in df.columns:\n",
        "    df = df.drop(columns=['Unnamed: 44'])\n",
        "\n",
        "# Target column\n",
        "target_col = 'PCOS (Y/N)'\n",
        "\n",
        "# Separate features and target\n",
        "X = df.drop(columns=[target_col])\n",
        "y = df[target_col]\n",
        "\n",
        "# Select only numeric features\n",
        "X_numeric = X.select_dtypes(include=['float64', 'int64'])\n",
        "\n",
        "# Perform ANOVA F-test\n",
        "f_values, p_values = f_classif(X_numeric, y)\n",
        "\n",
        "# Create a results dataframe\n",
        "anova_df = pd.DataFrame({\n",
        "    'Feature': X_numeric.columns,\n",
        "    'F_Value': f_values,\n",
        "    'p_Value': p_values\n",
        "}).sort_values(by='p_Value', ascending=True)\n",
        "\n",
        "# Save results\n",
        "anova_df.to_excel(output_path, index=False)\n",
        "\n",
        "print(f\"ANOVA results saved to: {output_path}\")\n"
      ],
      "metadata": {
        "id": "_AWyx5-Y4FFp",
        "colab": {
          "base_uri": "https://localhost:8080/"
        },
        "outputId": "3f08530d-76aa-49ab-80d4-8e7b3600d79d"
      },
      "execution_count": null,
      "outputs": [
        {
          "output_type": "stream",
          "name": "stdout",
          "text": [
            "ANOVA results saved to: /content/drive/MyDrive/pcos/ANOVA_pcos.xlsx\n"
          ]
        }
      ]
    },
    {
      "cell_type": "code",
      "source": [
        "# File paths\n",
        "input_path = \"/content/drive/MyDrive/pcos/after_mice.xlsx\"\n",
        "output_path = \"/content/drive/MyDrive/pcos/RFE_pcos.xlsx\"\n",
        "\n",
        "# Read the dataset\n",
        "df = pd.read_excel(input_path)\n",
        "\n",
        "# Remove the unwanted column if it exists\n",
        "if 'Unnamed: 44' in df.columns:\n",
        "    df = df.drop(columns=['Unnamed: 44'])\n",
        "\n",
        "# Target column\n",
        "target_col = 'PCOS (Y/N)'\n",
        "\n",
        "# Separate features and target\n",
        "X = df.drop(columns=[target_col])\n",
        "y = df[target_col]\n",
        "\n",
        "# Select only numeric features\n",
        "X_numeric = X.select_dtypes(include=['float64', 'int64'])\n",
        "\n",
        "# Define the estimator (Logistic Regression commonly used for RFE with classification)\n",
        "model = LogisticRegression(max_iter=500, solver='liblinear')\n",
        "\n",
        "# Apply RFE (selecting all features, ranking will tell importance)\n",
        "rfe = RFE(model, n_features_to_select=1)\n",
        "rfe = rfe.fit(X_numeric, y)\n",
        "\n",
        "# Create a results dataframe\n",
        "rfe_df = pd.DataFrame({\n",
        "    'Feature': X_numeric.columns,\n",
        "    'Ranking': rfe.ranking_,\n",
        "    'Selected': rfe.support_\n",
        "}).sort_values(by='Ranking', ascending=True)\n",
        "\n",
        "# Save results\n",
        "rfe_df.to_excel(output_path, index=False)\n",
        "\n",
        "print(f\"RFE results saved to: {output_path}\")\n"
      ],
      "metadata": {
        "id": "sqkOBJvlhokS",
        "outputId": "3fda3d16-ac9f-4d11-e94e-c62ec5a0d827",
        "colab": {
          "base_uri": "https://localhost:8080/"
        }
      },
      "execution_count": null,
      "outputs": [
        {
          "output_type": "stream",
          "name": "stdout",
          "text": [
            "RFE results saved to: /content/drive/MyDrive/pcos/RFE_pcos.xlsx\n"
          ]
        }
      ]
    },
    {
      "cell_type": "code",
      "source": [
        "\n",
        "# File paths\n",
        "input_path = \"/content/drive/MyDrive/pcos/after_mice.xlsx\"\n",
        "output_path = \"/content/drive/MyDrive/pcos/Lasso_pcos.xlsx\"\n",
        "\n",
        "# Read the dataset\n",
        "df = pd.read_excel(input_path)\n",
        "\n",
        "# Remove the unwanted column if it exists\n",
        "if 'Unnamed: 44' in df.columns:\n",
        "    df = df.drop(columns=['Unnamed: 44'])\n",
        "\n",
        "# Target column\n",
        "target_col = 'PCOS (Y/N)'\n",
        "\n",
        "# Separate features and target\n",
        "X = df.drop(columns=[target_col])\n",
        "y = df[target_col]\n",
        "\n",
        "# Select only numeric features\n",
        "X_numeric = X.select_dtypes(include=['float64', 'int64'])\n",
        "\n",
        "# Perform Lasso with cross-validation to find best alpha\n",
        "lasso = LassoCV(cv=5, random_state=42)\n",
        "lasso.fit(X_numeric, y)\n",
        "\n",
        "# Extract coefficients\n",
        "coef = pd.Series(lasso.coef_, index=X_numeric.columns)\n",
        "\n",
        "# Create results dataframe\n",
        "lasso_df = pd.DataFrame({\n",
        "    'Feature': coef.index,\n",
        "    'Coefficient': coef.values\n",
        "}).sort_values(by='Coefficient', key=abs, ascending=False)\n",
        "\n",
        "# Save results\n",
        "lasso_df.to_excel(output_path, index=False)\n",
        "\n",
        "print(f\"Lasso results saved to: {output_path}\")\n"
      ],
      "metadata": {
        "id": "daoulsP7hphV",
        "colab": {
          "base_uri": "https://localhost:8080/"
        },
        "outputId": "8f8c8aac-5141-4ab9-afdc-d5820af2835a"
      },
      "execution_count": null,
      "outputs": [
        {
          "output_type": "stream",
          "name": "stdout",
          "text": [
            "Lasso results saved to: /content/drive/MyDrive/pcos/Lasso_pcos.xlsx\n"
          ]
        }
      ]
    },
    {
      "cell_type": "code",
      "source": [
        "# File paths\n",
        "anova_path = \"/content/drive/MyDrive/pcos/ANOVA_pcos.xlsx\"\n",
        "data_path = \"/content/drive/MyDrive/pcos/after_mice.xlsx\"\n",
        "output_path = \"/content/drive/MyDrive/pcos/top25.xlsx\"\n",
        "\n",
        "# Step 1: Read ANOVA_pcos.xlsx and extract top 25 features\n",
        "anova_df = pd.read_excel(anova_path)\n",
        "top_features = anova_df[\"Feature\"].head(25).tolist()\n",
        "\n",
        "# Step 2: Read after_mice.xlsx\n",
        "data_df = pd.read_excel(data_path)\n",
        "\n",
        "# Step 3: Ensure 'Target' is kept, along with the top 25 features\n",
        "selected_columns = [\"Target\"] + [f for f in top_features if f in data_df.columns]\n",
        "final_df = data_df[selected_columns]\n",
        "\n",
        "# Step 4: Save the filtered dataframe\n",
        "final_df.to_excel(output_path, index=False)\n",
        "\n",
        "print(f\"File saved at: {output_path}\")\n"
      ],
      "metadata": {
        "id": "eEA41H1tqPqL",
        "colab": {
          "base_uri": "https://localhost:8080/"
        },
        "outputId": "53951022-3216-47c0-e0db-46a20003f9bb"
      },
      "execution_count": null,
      "outputs": [
        {
          "output_type": "stream",
          "name": "stdout",
          "text": [
            "File saved at: /content/drive/MyDrive/pcos/top25.xlsx\n"
          ]
        }
      ]
    },
    {
      "cell_type": "code",
      "source": [
        "# File paths\n",
        "input_path = \"/content/drive/MyDrive/pcos/top25.xlsx\"\n",
        "output_path = \"/content/drive/MyDrive/pcos/standard_25.xlsx\"\n",
        "\n",
        "# Step 1: Read the top 25 features dataset\n",
        "df = pd.read_excel(input_path)\n",
        "\n",
        "# Step 2: Separate Target column from features\n",
        "target = df[\"Target\"]\n",
        "features = df.drop(columns=[\"Target\"])\n",
        "\n",
        "# Step 3: Apply StandardScaler\n",
        "scaler = StandardScaler()\n",
        "scaled_features = scaler.fit_transform(features)\n",
        "\n",
        "# Step 4: Create a new DataFrame with standardized values\n",
        "scaled_df = pd.DataFrame(scaled_features, columns=features.columns)\n",
        "\n",
        "# Step 5: Add Target back as the first column\n",
        "final_df = pd.concat([target, scaled_df], axis=1)\n",
        "\n",
        "# Step 6: Save the standardized dataset\n",
        "final_df.to_excel(output_path, index=False)\n",
        "\n",
        "print(f\"Standardized file saved at: {output_path}\")\n"
      ],
      "metadata": {
        "colab": {
          "base_uri": "https://localhost:8080/"
        },
        "id": "xjAPYWRa20BG",
        "outputId": "91e067e6-dd87-49b7-c6da-08d1f9c43c2d"
      },
      "execution_count": null,
      "outputs": [
        {
          "output_type": "stream",
          "name": "stdout",
          "text": [
            "Standardized file saved at: /content/drive/MyDrive/pcos/standard_25.xlsx\n"
          ]
        }
      ]
    },
    {
      "cell_type": "code",
      "source": [
        "\n",
        "# File paths\n",
        "input_path = \"/content/drive/MyDrive/pcos/standard_25.xlsx\"\n",
        "train_path = \"/content/drive/MyDrive/pcos/train_25.xlsx\"\n",
        "test_path = \"/content/drive/MyDrive/pcos/test_25.xlsx\"\n",
        "\n",
        "# Step 1: Load data\n",
        "df = pd.read_excel(input_path)\n",
        "\n",
        "# Step 2: Split into features (X) and target (y)\n",
        "X = df.drop(columns=[\"Target\"])\n",
        "y = df[\"Target\"]\n",
        "\n",
        "# Step 3: Train-test split (use fixed random_state for reproducibility)\n",
        "X_train, X_test, y_train, y_test = train_test_split(\n",
        "    X, y, test_size=0.2, random_state=42, stratify=y\n",
        ")\n",
        "\n",
        "# Step 4: Save train and test sets\n",
        "train_df = pd.concat([y_train, X_train], axis=1)\n",
        "test_df = pd.concat([y_test, X_test], axis=1)\n",
        "\n",
        "train_df.to_excel(train_path, index=False)\n",
        "test_df.to_excel(test_path, index=False)\n",
        "\n",
        "print(f\"Train file saved at: {train_path}\")\n",
        "print(f\"Test file saved at: {test_path}\")\n"
      ],
      "metadata": {
        "colab": {
          "base_uri": "https://localhost:8080/"
        },
        "id": "IGQWK2rt6XXY",
        "outputId": "f942fc48-82a3-4611-a5ab-7bd3b02a591b"
      },
      "execution_count": null,
      "outputs": [
        {
          "output_type": "stream",
          "name": "stdout",
          "text": [
            "Train file saved at: /content/drive/MyDrive/pcos/train_25.xlsx\n",
            "Test file saved at: /content/drive/MyDrive/pcos/test_25.xlsx\n"
          ]
        }
      ]
    },
    {
      "cell_type": "code",
      "source": [
        "# File paths\n",
        "train_path = \"/content/drive/MyDrive/pcos/train_25.xlsx\"\n",
        "test_path = \"/content/drive/MyDrive/pcos/test_25.xlsx\"\n",
        "model_path = \"/content/drive/MyDrive/pcos/models/SVM/svm_model.pkl\"\n",
        "\n",
        "train_results_path = \"/content/drive/MyDrive/pcos/models/SVM/train_results.csv\"\n",
        "test_results_path = \"/content/drive/MyDrive/pcos/models/SVM/test_results.csv\"\n",
        "train_preds_path = \"/content/drive/MyDrive/pcos/models/SVM/train_predictions.csv\"\n",
        "test_preds_path = \"/content/drive/MyDrive/pcos/models/SVM/test_predictions.csv\"\n",
        "feature_importance_path = \"/content/drive/MyDrive/pcos/models/SVM/feature_importance.csv\"\n",
        "\n",
        "# Load data\n",
        "train_df = pd.read_excel(train_path)\n",
        "test_df = pd.read_excel(test_path)\n",
        "\n",
        "X_train, y_train = train_df.drop(columns=[\"Target\"]), train_df[\"Target\"]\n",
        "X_test, y_test = test_df.drop(columns=[\"Target\"]), test_df[\"Target\"]\n",
        "\n",
        "# Handle class imbalance with class_weight\n",
        "classes = np.unique(y_train)\n",
        "weights = compute_class_weight(class_weight=\"balanced\", classes=classes, y=y_train)\n",
        "class_weights = dict(zip(classes, weights))\n",
        "\n",
        "# Hyperparameter tuning with Stratified CV\n",
        "param_grid = {\n",
        "    \"C\": [0.1, 1, 10],\n",
        "    \"gamma\": [\"scale\", \"auto\"],\n",
        "    \"kernel\": [\"linear\", \"rbf\"]\n",
        "}\n",
        "\n",
        "cv = StratifiedKFold(n_splits=5, shuffle=True, random_state=42)\n",
        "\n",
        "grid_search = GridSearchCV(\n",
        "    SVC(class_weight=class_weights, probability=True, random_state=42),\n",
        "    param_grid,\n",
        "    cv=cv,\n",
        "    scoring=\"accuracy\",\n",
        "    n_jobs=-1,\n",
        "    verbose=1\n",
        ")\n",
        "\n",
        "grid_search.fit(X_train, y_train)\n",
        "best_svm = grid_search.best_estimator_\n",
        "print(\" Best parameters found:\", grid_search.best_params_)\n",
        "\n",
        "# Save model\n",
        "joblib.dump(best_svm, model_path)\n",
        "\n",
        "# Predictions\n",
        "y_train_pred = best_svm.predict(X_train)\n",
        "y_test_pred = best_svm.predict(X_test)\n",
        "\n",
        "y_train_prob = best_svm.predict_proba(X_train)[:, 1]\n",
        "y_test_prob = best_svm.predict_proba(X_test)[:, 1]\n",
        "\n",
        "# Save prediction files\n",
        "pd.DataFrame({\n",
        "    \"True\": y_train,\n",
        "    \"Predicted\": y_train_pred,\n",
        "    \"Probability\": y_train_prob\n",
        "}).to_csv(train_preds_path, index=False)\n",
        "\n",
        "pd.DataFrame({\n",
        "    \"True\": y_test,\n",
        "    \"Predicted\": y_test_pred,\n",
        "    \"Probability\": y_test_prob\n",
        "}).to_csv(test_preds_path, index=False)\n",
        "\n",
        "# Save result metrics (ONLY Accuracy, Precision, ROC-AUC)\n",
        "train_metrics = {\n",
        "    \"Accuracy\": accuracy_score(y_train, y_train_pred),\n",
        "    \"Precision\": precision_score(y_train, y_train_pred, zero_division=0),\n",
        "    \"ROC_AUC\": roc_auc_score(y_train, y_train_prob)\n",
        "}\n",
        "test_metrics = {\n",
        "    \"Accuracy\": accuracy_score(y_test, y_test_pred),\n",
        "    \"Precision\": precision_score(y_test, y_test_pred, zero_division=0),\n",
        "    \"ROC_AUC\": roc_auc_score(y_test, y_test_prob)\n",
        "}\n",
        "\n",
        "pd.DataFrame([train_metrics]).to_csv(train_results_path, index=False)\n",
        "pd.DataFrame([test_metrics]).to_csv(test_results_path, index=False)\n",
        "\n",
        "# Print results in terminal\n",
        "print(\"\\n Training Results:\")\n",
        "print(f\"Accuracy: {train_metrics['Accuracy']:.4f}\")\n",
        "print(f\"ROC-AUC : {train_metrics['ROC_AUC']:.4f}\")\n",
        "\n",
        "print(\"\\n Testing Results:\")\n",
        "print(f\"Accuracy: {test_metrics['Accuracy']:.4f}\")\n",
        "print(f\"ROC-AUC : {test_metrics['ROC_AUC']:.4f}\")\n",
        "\n",
        "# Feature Importance (only for linear kernel)\n",
        "if best_svm.kernel == \"linear\":\n",
        "    importance = pd.DataFrame({\n",
        "        \"Feature\": X_train.columns,\n",
        "        \"Coefficient\": best_svm.coef_[0]\n",
        "    }).sort_values(by=\"Coefficient\", key=abs, ascending=False)\n",
        "    importance.to_csv(feature_importance_path, index=False)\n",
        "else:\n",
        "    importance = pd.DataFrame({\n",
        "        \"Feature\": X_train.columns,\n",
        "        \"Importance\": np.var(X_train, axis=0)\n",
        "    }).sort_values(by=\"Importance\", ascending=False)\n",
        "    importance.to_csv(feature_importance_path, index=False)\n",
        "\n",
        "print(\"\\n Training finished and all files saved successfully!\")\n"
      ],
      "metadata": {
        "colab": {
          "base_uri": "https://localhost:8080/"
        },
        "id": "V3Cvby-U8G5-",
        "outputId": "780448b4-d9a4-435e-9424-6b0dd80571d2"
      },
      "execution_count": null,
      "outputs": [
        {
          "output_type": "stream",
          "name": "stdout",
          "text": [
            "Fitting 5 folds for each of 12 candidates, totalling 60 fits\n",
            "✅ Best parameters found: {'C': 0.1, 'gamma': 'scale', 'kernel': 'linear'}\n",
            "\n",
            "📊 Training Results:\n",
            "Accuracy: 0.9144\n",
            "ROC-AUC : 0.9652\n",
            "\n",
            "📊 Testing Results:\n",
            "Accuracy: 0.9174\n",
            "ROC-AUC : 0.9589\n",
            "\n",
            "✅ Training finished and all files saved successfully!\n"
          ]
        }
      ]
    },
    {
      "cell_type": "code",
      "source": [
        "# File paths\n",
        "base_dir = \"/content/drive/MyDrive/pcos/models/LR\"\n",
        "os.makedirs(base_dir, exist_ok=True)   # make directory if not exists\n",
        "\n",
        "PATH = \"/content/drive/MyDrive/pcos/standard_25.xlsx\"\n",
        "model_path = f\"{base_dir}/lr_model.pkl\"\n",
        "\n",
        "train_results_path = f\"{base_dir}/train_results.csv\"\n",
        "test_results_path  = f\"{base_dir}/test_results.csv\"\n",
        "train_preds_path   = f\"{base_dir}/train_predictions.csv\"\n",
        "test_preds_path    = f\"{base_dir}/test_predictions.csv\"\n",
        "feature_importance_path = f\"{base_dir}/feature_importance.csv\"\n",
        "\n",
        "# Load data\n",
        "df = pd.read_excel(PATH)\n",
        "y = df[\"Target\"].values\n",
        "X = df.drop(columns=[\"Target\"])\n",
        "\n",
        "# Train/test split (stratified)\n",
        "X_tr, X_te, y_tr, y_te = train_test_split(\n",
        "    X, y, test_size=0.2, random_state=42, stratify=y\n",
        ")\n",
        "\n",
        "# Hyperparameter tuning\n",
        "param_grid = {\n",
        "    \"C\": [0.01, 0.1, 1, 10],\n",
        "    \"solver\": [\"liblinear\", \"lbfgs\"],\n",
        "    \"class_weight\": [None, \"balanced\"]\n",
        "}\n",
        "cv = StratifiedKFold(n_splits=5, shuffle=True, random_state=42)\n",
        "\n",
        "grid = GridSearchCV(\n",
        "    LogisticRegression(max_iter=2000),\n",
        "    param_grid,\n",
        "    scoring=\"roc_auc\",\n",
        "    cv=cv,\n",
        "    n_jobs=-1\n",
        ")\n",
        "grid.fit(X_tr, y_tr)\n",
        "best_lr = grid.best_estimator_\n",
        "print(\" Best parameters found:\", grid.best_params_)\n",
        "\n",
        "# Save model\n",
        "joblib.dump(best_lr, model_path)\n",
        "\n",
        "# Predictions\n",
        "y_tr_pred = best_lr.predict(X_tr)\n",
        "y_te_pred = best_lr.predict(X_te)\n",
        "\n",
        "y_tr_prob = best_lr.predict_proba(X_tr)[:, 1]\n",
        "y_te_prob = best_lr.predict_proba(X_te)[:, 1]\n",
        "\n",
        "# Save prediction files\n",
        "pd.DataFrame({\n",
        "    \"True\": y_tr,\n",
        "    \"Predicted\": y_tr_pred,\n",
        "    \"Probability\": y_tr_prob\n",
        "}).to_csv(train_preds_path, index=False)\n",
        "\n",
        "pd.DataFrame({\n",
        "    \"True\": y_te,\n",
        "    \"Predicted\": y_te_pred,\n",
        "    \"Probability\": y_te_prob\n",
        "}).to_csv(test_preds_path, index=False)\n",
        "\n",
        "# Metrics (Accuracy, Precision, ROC-AUC)\n",
        "train_metrics = {\n",
        "    \"Accuracy\": accuracy_score(y_tr, y_tr_pred),\n",
        "    \"Precision\": precision_score(y_tr, y_tr_pred, zero_division=0),\n",
        "    \"ROC_AUC\": roc_auc_score(y_tr, y_tr_prob)\n",
        "}\n",
        "test_metrics = {\n",
        "    \"Accuracy\": accuracy_score(y_te, y_te_pred),\n",
        "    \"Precision\": precision_score(y_te, y_te_pred, zero_division=0),\n",
        "    \"ROC_AUC\": roc_auc_score(y_te, y_te_prob)\n",
        "}\n",
        "\n",
        "pd.DataFrame([train_metrics]).to_csv(train_results_path, index=False)\n",
        "pd.DataFrame([test_metrics]).to_csv(test_results_path, index=False)\n",
        "\n",
        "# Print results in terminal\n",
        "print(\"\\n Training Results:\")\n",
        "print(f\"Accuracy : {train_metrics['Accuracy']:.4f}\")\n",
        "print(f\"ROC-AUC  : {train_metrics['ROC_AUC']:.4f}\")\n",
        "\n",
        "print(\"\\n Testing Results:\")\n",
        "print(f\"Accuracy : {test_metrics['Accuracy']:.4f}\")\n",
        "print(f\"ROC-AUC  : {test_metrics['ROC_AUC']:.4f}\")\n",
        "\n",
        "# Feature Importance (coefficients)\n",
        "coef = pd.Series(best_lr.coef_[0], index=X.columns)\n",
        "importance = (\n",
        "    pd.DataFrame({\n",
        "        \"Feature\": coef.index,\n",
        "        \"Coefficient\": coef.values,\n",
        "        \"Abs_Coefficient\": np.abs(coef.values)\n",
        "    })\n",
        "    .sort_values(\"Abs_Coefficient\", ascending=False)\n",
        ")\n",
        "importance.to_csv(feature_importance_path, index=False)\n",
        "\n",
        "print(\"\\n✅ Training finished and all files saved successfully!\")\n"
      ],
      "metadata": {
        "colab": {
          "base_uri": "https://localhost:8080/"
        },
        "id": "GdnbBLQ7Pb_G",
        "outputId": "95156951-7e3c-4177-f6f3-dd3baad6434b"
      },
      "execution_count": null,
      "outputs": [
        {
          "output_type": "stream",
          "name": "stdout",
          "text": [
            "✅ Best parameters found: {'C': 0.01, 'class_weight': None, 'solver': 'lbfgs'}\n",
            "\n",
            "📊 Training Results:\n",
            "Accuracy : 0.8912\n",
            "ROC-AUC  : 0.9627\n",
            "\n",
            "📊 Testing Results:\n",
            "Accuracy : 0.8716\n",
            "ROC-AUC  : 0.9444\n",
            "\n",
            "✅ Training finished and all files saved successfully!\n"
          ]
        }
      ]
    },
    {
      "cell_type": "code",
      "source": [
        "# File paths\n",
        "train_path = \"/content/drive/MyDrive/pcos/train_25.xlsx\"\n",
        "test_path = \"/content/drive/MyDrive/pcos/test_25.xlsx\"\n",
        "\n",
        "output_dir = \"/content/drive/MyDrive/pcos/models/XGBoost\"\n",
        "os.makedirs(output_dir, exist_ok=True)\n",
        "\n",
        "train_results_path = os.path.join(output_dir, \"train_results.csv\")\n",
        "test_results_path = os.path.join(output_dir, \"test_results.csv\")\n",
        "train_preds_path = os.path.join(output_dir, \"train_predictions.csv\")\n",
        "test_preds_path = os.path.join(output_dir, \"test_predictions.csv\")\n",
        "feature_importance_path = os.path.join(output_dir, \"feature_importance.csv\")\n",
        "\n",
        "# Load data\n",
        "train_df = pd.read_excel(train_path)\n",
        "test_df = pd.read_excel(test_path)\n",
        "\n",
        "X_train, y_train = train_df.drop(columns=[\"Target\"]), train_df[\"Target\"]\n",
        "X_test, y_test = test_df.drop(columns=[\"Target\"]), test_df[\"Target\"]\n",
        "\n",
        "# Handle class imbalance (scale_pos_weight)\n",
        "class_ratio = y_train.value_counts()[0] / y_train.value_counts()[1]\n",
        "\n",
        "# Hyperparameter tuning with Stratified CV\n",
        "\n",
        "param_grid = {\n",
        "    \"n_estimators\": [100, 200],        # fewer trees\n",
        "    \"max_depth\": [3, 4],              # shallower trees\n",
        "    \"learning_rate\": [0.01, 0.05, 0.1],\n",
        "    \"subsample\": [0.7, 0.8, 1.0],\n",
        "    \"colsample_bytree\": [0.7, 0.8, 1.0],\n",
        "    \"scale_pos_weight\": [1, class_ratio],\n",
        "    \"reg_lambda\": [10, 20, 50],       # stronger L2 regularization\n",
        "    \"reg_alpha\": [5, 10, 20]          # stronger L1 regularization\n",
        "}\n",
        "\n",
        "\n",
        "cv = StratifiedKFold(n_splits=5, shuffle=True, random_state=42)\n",
        "\n",
        "grid_search = GridSearchCV(\n",
        "    estimator=XGBClassifier(use_label_encoder=False, eval_metric=\"logloss\", random_state=42),\n",
        "    param_grid=param_grid,\n",
        "    cv=cv,\n",
        "    scoring=\"accuracy\",\n",
        "    n_jobs=-1,\n",
        "    verbose=2,\n",
        "    return_train_score=True\n",
        ")\n",
        "# Fit the model\n",
        "print(\"Starting Grid Search...\")\n",
        "grid_search.fit(X_train, y_train)\n",
        "best_model = grid_search.best_estimator_\n",
        "print(\"Best parameters found:\", grid_search.best_params_)\n",
        "\n",
        "# Predictions\n",
        "y_train_pred = best_model.predict(X_train)\n",
        "y_test_pred = best_model.predict(X_test)\n",
        "y_train_prob = best_model.predict_proba(X_train)[:, 1]\n",
        "y_test_prob = best_model.predict_proba(X_test)[:, 1]\n",
        "\n",
        "# Save result metrics (ONLY Accuracy & ROC-AUC)\n",
        "train_metrics = {\n",
        "    \"Accuracy\": accuracy_score(y_train, y_train_pred),\n",
        "    \"ROC_AUC\": roc_auc_score(y_train, y_train_prob)\n",
        "}\n",
        "test_metrics = {\n",
        "    \"Accuracy\": accuracy_score(y_test, y_test_pred),\n",
        "    \"ROC_AUC\": roc_auc_score(y_test, y_test_prob)\n",
        "}\n",
        "\n",
        "pd.DataFrame([train_metrics]).to_csv(train_results_path, index=False)\n",
        "pd.DataFrame([test_metrics]).to_csv(test_results_path, index=False)\n",
        "\n",
        "# Save prediction files\n",
        "pd.DataFrame({\n",
        "    \"True\": y_train,\n",
        "    \"Predicted\": y_train_pred,\n",
        "    \"Probability\": y_train_prob\n",
        "}).to_csv(train_preds_path, index=False)\n",
        "\n",
        "pd.DataFrame({\n",
        "    \"True\": y_test,\n",
        "    \"Predicted\": y_test_pred,\n",
        "    \"Probability\": y_test_prob\n",
        "}).to_csv(test_preds_path, index=False)\n",
        "\n",
        "# Save trained model\n",
        "timestamp = datetime.now().strftime(\"%Y%m%d_%H%M%S\")\n",
        "model_filename = os.path.join(output_dir, f\"XGBoost_best_model_{timestamp}.pkl\")\n",
        "joblib.dump(best_model, model_filename)\n",
        "print(f\"Saved best model to {model_filename}\")\n",
        "\n",
        "# Feature Importance\n",
        "importance = pd.DataFrame({\n",
        "    \"Feature\": X_train.columns,\n",
        "    \"Importance\": best_model.feature_importances_\n",
        "}).sort_values(by=\"Importance\", ascending=False)\n",
        "importance.to_csv(feature_importance_path, index=False)\n",
        "\n",
        "# Print results in terminal\n",
        "print(\"\\n Training Results:\")\n",
        "print(f\"Accuracy: {train_metrics['Accuracy']:.4f}\")\n",
        "print(f\"ROC-AUC : {train_metrics['ROC_AUC']:.4f}\")\n",
        "\n",
        "print(\"\\n Testing Results:\")\n",
        "print(f\"Accuracy: {test_metrics['Accuracy']:.4f}\")\n",
        "print(f\"ROC-AUC : {test_metrics['ROC_AUC']:.4f}\")\n",
        "\n",
        "print(\"\\n Training finished and all files saved successfully in:\", output_dir)\n"
      ],
      "metadata": {
        "id": "HyxP7fOLMmQD",
        "colab": {
          "base_uri": "https://localhost:8080/"
        },
        "outputId": "c097d697-a00b-4d21-ae9f-f314ba69217b"
      },
      "execution_count": null,
      "outputs": [
        {
          "output_type": "stream",
          "name": "stdout",
          "text": [
            "🚀 Starting Grid Search...\n",
            "Fitting 5 folds for each of 1944 candidates, totalling 9720 fits\n"
          ]
        },
        {
          "output_type": "stream",
          "name": "stderr",
          "text": [
            "/usr/local/lib/python3.12/dist-packages/xgboost/training.py:183: UserWarning: [18:02:39] WARNING: /workspace/src/learner.cc:738: \n",
            "Parameters: { \"use_label_encoder\" } are not used.\n",
            "\n",
            "  bst.update(dtrain, iteration=i, fobj=obj)\n"
          ]
        },
        {
          "output_type": "stream",
          "name": "stdout",
          "text": [
            "✅ Best parameters found: {'colsample_bytree': 1.0, 'learning_rate': 0.1, 'max_depth': 3, 'n_estimators': 200, 'reg_alpha': 5, 'reg_lambda': 10, 'scale_pos_weight': np.float64(2.0638297872340425), 'subsample': 0.7}\n",
            "✅ Saved best model to /content/drive/MyDrive/pcos/models/XGBoost/XGBoost_best_model_20250831_180240.pkl\n",
            "\n",
            "📊 Training Results:\n",
            "Accuracy: 0.9676\n",
            "ROC-AUC : 0.9922\n",
            "\n",
            "📊 Testing Results:\n",
            "Accuracy: 0.8991\n",
            "ROC-AUC : 0.9444\n",
            "\n",
            "✅ Training finished and all files saved successfully in: /content/drive/MyDrive/pcos/models/XGBoost\n"
          ]
        }
      ]
    },
    {
      "cell_type": "code",
      "source": [
        "# Load the data\n",
        "train_path = \"/content/drive/MyDrive/pcos/train_25.xlsx\"\n",
        "test_path = \"/content/drive/MyDrive/pcos/test_25.xlsx\"\n",
        "\n",
        "save_dir = \"/content/drive/MyDrive/pcos/models/MLP\"\n",
        "os.makedirs(save_dir, exist_ok=True)\n",
        "\n",
        "train_df = pd.read_excel(train_path)\n",
        "test_df = pd.read_excel(test_path)\n",
        "\n",
        "X_train = train_df.drop(columns=['Target'])\n",
        "y_train = train_df['Target']\n",
        "\n",
        "X_test = test_df.drop(columns=['Target'])\n",
        "y_test = test_df['Target']\n",
        "\n",
        "# Define model and parameter grid\n",
        "mlp = MLPClassifier(max_iter=1000, random_state=42)\n",
        "\n",
        "param_grid = {\n",
        "    \"hidden_layer_sizes\": [(50,), (100,), (50,50), (100,50)],\n",
        "    \"activation\": [\"relu\", \"tanh\"],\n",
        "    \"solver\": [\"adam\", \"sgd\"],\n",
        "    \"alpha\": [0.0001, 0.001, 0.01],  # L2 regularization\n",
        "    \"learning_rate\": [\"constant\", \"adaptive\"]\n",
        "}\n",
        "\n",
        "# Cross-validation\n",
        "cv = StratifiedKFold(n_splits=5, shuffle=True, random_state=42)\n",
        "\n",
        "grid_search = GridSearchCV(\n",
        "    estimator=mlp,\n",
        "    param_grid=param_grid,\n",
        "    scoring=\"accuracy\",   # can change to 'roc_auc'\n",
        "    cv=cv,\n",
        "    n_jobs=-1,\n",
        "    verbose=2\n",
        ")\n",
        "\n",
        "# Fit\n",
        "print(\"Starting Grid Search for MLP...\")\n",
        "grid_search.fit(X_train, y_train)\n",
        "\n",
        "print(\"Best Parameters:\", grid_search.best_params_)\n",
        "\n",
        "# Best model\n",
        "best_model = grid_search.best_estimator_\n",
        "\n",
        "# Evaluate\n",
        "def evaluate_and_save(model, X, y, split_name):\n",
        "    preds = model.predict(X)\n",
        "    probs = model.predict_proba(X)[:, 1]  # probability of positive class\n",
        "\n",
        "    acc = accuracy_score(y, preds)\n",
        "    roc = roc_auc_score(y, probs)  # use probabilities, not hard labels\n",
        "\n",
        "    print(f\"\\n {split_name} Results:\")\n",
        "    print(f\"Accuracy: {acc:.4f}\")\n",
        "    print(f\"ROC-AUC : {roc:.4f}\")\n",
        "\n",
        "    # Save metrics\n",
        "    metrics = {\"Accuracy\": acc, \"ROC-AUC\": roc}\n",
        "    pd.DataFrame([metrics]).to_csv(os.path.join(save_dir, f\"{split_name.lower()}_results.csv\"), index=False)\n",
        "\n",
        "    # Save predictions + probabilities\n",
        "    pd.DataFrame({\n",
        "        \"True\": y,\n",
        "        \"Predicted\": preds,\n",
        "        \"Probability\": probs\n",
        "    }).to_csv(os.path.join(save_dir, f\"{split_name.lower()}_predictions.csv\"), index=False)\n",
        "\n",
        "    return metrics\n",
        "\n",
        "train_metrics = evaluate_and_save(best_model, X_train, y_train, \"Train\")\n",
        "test_metrics = evaluate_and_save(best_model, X_test, y_test, \"Test\")\n",
        "\n",
        "# Save model\n",
        "timestamp = datetime.now().strftime(\"%Y%m%d_%H%M%S\")\n",
        "model_filename = os.path.join(save_dir, f\"MLP_best_model_{timestamp}.pkl\")\n",
        "joblib.dump(best_model, model_filename)\n",
        "print(f\"\\n Saved best MLP model to {model_filename}\")\n",
        "\n",
        "print(\"\\n Training finished! All results, predictions, and model are saved in:\", save_dir)\n"
      ],
      "metadata": {
        "colab": {
          "base_uri": "https://localhost:8080/",
          "height": 373
        },
        "id": "sNBlzo3SQS4-",
        "outputId": "50979d46-cc67-48e8-a57c-227e1b7f4376"
      },
      "execution_count": null,
      "outputs": [
        {
          "output_type": "error",
          "ename": "FileNotFoundError",
          "evalue": "[Errno 2] No such file or directory: '/content/drive/MyDrive/pcos/train_25.xlsx'",
          "traceback": [
            "\u001b[0;31m---------------------------------------------------------------------------\u001b[0m",
            "\u001b[0;31mFileNotFoundError\u001b[0m                         Traceback (most recent call last)",
            "\u001b[0;32m/tmp/ipython-input-1073151490.py\u001b[0m in \u001b[0;36m<cell line: 0>\u001b[0;34m()\u001b[0m\n\u001b[1;32m     15\u001b[0m \u001b[0mos\u001b[0m\u001b[0;34m.\u001b[0m\u001b[0mmakedirs\u001b[0m\u001b[0;34m(\u001b[0m\u001b[0msave_dir\u001b[0m\u001b[0;34m,\u001b[0m \u001b[0mexist_ok\u001b[0m\u001b[0;34m=\u001b[0m\u001b[0;32mTrue\u001b[0m\u001b[0;34m)\u001b[0m\u001b[0;34m\u001b[0m\u001b[0;34m\u001b[0m\u001b[0m\n\u001b[1;32m     16\u001b[0m \u001b[0;34m\u001b[0m\u001b[0m\n\u001b[0;32m---> 17\u001b[0;31m \u001b[0mtrain_df\u001b[0m \u001b[0;34m=\u001b[0m \u001b[0mpd\u001b[0m\u001b[0;34m.\u001b[0m\u001b[0mread_excel\u001b[0m\u001b[0;34m(\u001b[0m\u001b[0mtrain_path\u001b[0m\u001b[0;34m)\u001b[0m\u001b[0;34m\u001b[0m\u001b[0;34m\u001b[0m\u001b[0m\n\u001b[0m\u001b[1;32m     18\u001b[0m \u001b[0mtest_df\u001b[0m \u001b[0;34m=\u001b[0m \u001b[0mpd\u001b[0m\u001b[0;34m.\u001b[0m\u001b[0mread_excel\u001b[0m\u001b[0;34m(\u001b[0m\u001b[0mtest_path\u001b[0m\u001b[0;34m)\u001b[0m\u001b[0;34m\u001b[0m\u001b[0;34m\u001b[0m\u001b[0m\n\u001b[1;32m     19\u001b[0m \u001b[0;34m\u001b[0m\u001b[0m\n",
            "\u001b[0;32m/usr/local/lib/python3.12/dist-packages/pandas/io/excel/_base.py\u001b[0m in \u001b[0;36mread_excel\u001b[0;34m(io, sheet_name, header, names, index_col, usecols, dtype, engine, converters, true_values, false_values, skiprows, nrows, na_values, keep_default_na, na_filter, verbose, parse_dates, date_parser, date_format, thousands, decimal, comment, skipfooter, storage_options, dtype_backend, engine_kwargs)\u001b[0m\n\u001b[1;32m    493\u001b[0m     \u001b[0;32mif\u001b[0m \u001b[0;32mnot\u001b[0m \u001b[0misinstance\u001b[0m\u001b[0;34m(\u001b[0m\u001b[0mio\u001b[0m\u001b[0;34m,\u001b[0m \u001b[0mExcelFile\u001b[0m\u001b[0;34m)\u001b[0m\u001b[0;34m:\u001b[0m\u001b[0;34m\u001b[0m\u001b[0;34m\u001b[0m\u001b[0m\n\u001b[1;32m    494\u001b[0m         \u001b[0mshould_close\u001b[0m \u001b[0;34m=\u001b[0m \u001b[0;32mTrue\u001b[0m\u001b[0;34m\u001b[0m\u001b[0;34m\u001b[0m\u001b[0m\n\u001b[0;32m--> 495\u001b[0;31m         io = ExcelFile(\n\u001b[0m\u001b[1;32m    496\u001b[0m             \u001b[0mio\u001b[0m\u001b[0;34m,\u001b[0m\u001b[0;34m\u001b[0m\u001b[0;34m\u001b[0m\u001b[0m\n\u001b[1;32m    497\u001b[0m             \u001b[0mstorage_options\u001b[0m\u001b[0;34m=\u001b[0m\u001b[0mstorage_options\u001b[0m\u001b[0;34m,\u001b[0m\u001b[0;34m\u001b[0m\u001b[0;34m\u001b[0m\u001b[0m\n",
            "\u001b[0;32m/usr/local/lib/python3.12/dist-packages/pandas/io/excel/_base.py\u001b[0m in \u001b[0;36m__init__\u001b[0;34m(self, path_or_buffer, engine, storage_options, engine_kwargs)\u001b[0m\n\u001b[1;32m   1548\u001b[0m                 \u001b[0mext\u001b[0m \u001b[0;34m=\u001b[0m \u001b[0;34m\"xls\"\u001b[0m\u001b[0;34m\u001b[0m\u001b[0;34m\u001b[0m\u001b[0m\n\u001b[1;32m   1549\u001b[0m             \u001b[0;32melse\u001b[0m\u001b[0;34m:\u001b[0m\u001b[0;34m\u001b[0m\u001b[0;34m\u001b[0m\u001b[0m\n\u001b[0;32m-> 1550\u001b[0;31m                 ext = inspect_excel_format(\n\u001b[0m\u001b[1;32m   1551\u001b[0m                     \u001b[0mcontent_or_path\u001b[0m\u001b[0;34m=\u001b[0m\u001b[0mpath_or_buffer\u001b[0m\u001b[0;34m,\u001b[0m \u001b[0mstorage_options\u001b[0m\u001b[0;34m=\u001b[0m\u001b[0mstorage_options\u001b[0m\u001b[0;34m\u001b[0m\u001b[0;34m\u001b[0m\u001b[0m\n\u001b[1;32m   1552\u001b[0m                 )\n",
            "\u001b[0;32m/usr/local/lib/python3.12/dist-packages/pandas/io/excel/_base.py\u001b[0m in \u001b[0;36minspect_excel_format\u001b[0;34m(content_or_path, storage_options)\u001b[0m\n\u001b[1;32m   1400\u001b[0m         \u001b[0mcontent_or_path\u001b[0m \u001b[0;34m=\u001b[0m \u001b[0mBytesIO\u001b[0m\u001b[0;34m(\u001b[0m\u001b[0mcontent_or_path\u001b[0m\u001b[0;34m)\u001b[0m\u001b[0;34m\u001b[0m\u001b[0;34m\u001b[0m\u001b[0m\n\u001b[1;32m   1401\u001b[0m \u001b[0;34m\u001b[0m\u001b[0m\n\u001b[0;32m-> 1402\u001b[0;31m     with get_handle(\n\u001b[0m\u001b[1;32m   1403\u001b[0m         \u001b[0mcontent_or_path\u001b[0m\u001b[0;34m,\u001b[0m \u001b[0;34m\"rb\"\u001b[0m\u001b[0;34m,\u001b[0m \u001b[0mstorage_options\u001b[0m\u001b[0;34m=\u001b[0m\u001b[0mstorage_options\u001b[0m\u001b[0;34m,\u001b[0m \u001b[0mis_text\u001b[0m\u001b[0;34m=\u001b[0m\u001b[0;32mFalse\u001b[0m\u001b[0;34m\u001b[0m\u001b[0;34m\u001b[0m\u001b[0m\n\u001b[1;32m   1404\u001b[0m     ) as handle:\n",
            "\u001b[0;32m/usr/local/lib/python3.12/dist-packages/pandas/io/common.py\u001b[0m in \u001b[0;36mget_handle\u001b[0;34m(path_or_buf, mode, encoding, compression, memory_map, is_text, errors, storage_options)\u001b[0m\n\u001b[1;32m    880\u001b[0m         \u001b[0;32melse\u001b[0m\u001b[0;34m:\u001b[0m\u001b[0;34m\u001b[0m\u001b[0;34m\u001b[0m\u001b[0m\n\u001b[1;32m    881\u001b[0m             \u001b[0;31m# Binary mode\u001b[0m\u001b[0;34m\u001b[0m\u001b[0;34m\u001b[0m\u001b[0m\n\u001b[0;32m--> 882\u001b[0;31m             \u001b[0mhandle\u001b[0m \u001b[0;34m=\u001b[0m \u001b[0mopen\u001b[0m\u001b[0;34m(\u001b[0m\u001b[0mhandle\u001b[0m\u001b[0;34m,\u001b[0m \u001b[0mioargs\u001b[0m\u001b[0;34m.\u001b[0m\u001b[0mmode\u001b[0m\u001b[0;34m)\u001b[0m\u001b[0;34m\u001b[0m\u001b[0;34m\u001b[0m\u001b[0m\n\u001b[0m\u001b[1;32m    883\u001b[0m         \u001b[0mhandles\u001b[0m\u001b[0;34m.\u001b[0m\u001b[0mappend\u001b[0m\u001b[0;34m(\u001b[0m\u001b[0mhandle\u001b[0m\u001b[0;34m)\u001b[0m\u001b[0;34m\u001b[0m\u001b[0;34m\u001b[0m\u001b[0m\n\u001b[1;32m    884\u001b[0m \u001b[0;34m\u001b[0m\u001b[0m\n",
            "\u001b[0;31mFileNotFoundError\u001b[0m: [Errno 2] No such file or directory: '/content/drive/MyDrive/pcos/train_25.xlsx'"
          ]
        }
      ]
    },
    {
      "cell_type": "code",
      "source": [
        "import pandas as pd\n",
        "\n",
        "file_path = \"/content/drive/MyDrive/pcos/models/LR/test_results.csv\"\n",
        "df = pd.read_csv(file_path)\n",
        "\n",
        "print(df.head())       # show first few rows\n",
        "print(df.columns)      # show all column names\n"
      ],
      "metadata": {
        "colab": {
          "base_uri": "https://localhost:8080/"
        },
        "id": "ctkcBa6HW7QD",
        "outputId": "be671b1a-d0cb-47e6-d96f-11f3042c8309"
      },
      "execution_count": null,
      "outputs": [
        {
          "output_type": "stream",
          "name": "stdout",
          "text": [
            "   Accuracy  Precision   ROC_AUC\n",
            "0   0.87156   0.892857  0.944444\n",
            "Index(['Accuracy', 'Precision', 'ROC_AUC'], dtype='object')\n"
          ]
        }
      ]
    },
    {
      "cell_type": "code",
      "source": [
        "\n",
        "file_path = \"/content/drive/MyDrive/pcos/models/LR/test_predictions.csv\"\n",
        "df = pd.read_csv(file_path)\n",
        "\n",
        "print(df.head())       # first few rows\n",
        "print(df.columns)      # all column names\n"
      ],
      "metadata": {
        "colab": {
          "base_uri": "https://localhost:8080/"
        },
        "id": "qTA2pCUsXLB7",
        "outputId": "fe71bc6c-1f51-4ccf-fa12-d726368160e7"
      },
      "execution_count": null,
      "outputs": [
        {
          "output_type": "stream",
          "name": "stdout",
          "text": [
            "   True  Predicted  Probability\n",
            "0     1          0     0.089029\n",
            "1     0          0     0.295187\n",
            "2     0          0     0.214534\n",
            "3     1          1     0.749157\n",
            "4     0          0     0.095361\n",
            "Index(['True', 'Predicted', 'Probability'], dtype='object')\n"
          ]
        }
      ]
    },
    {
      "cell_type": "code",
      "source": [
        "# Define model names and file paths\n",
        "models = {\n",
        "    \"Logistic Regression\": \"/content/drive/MyDrive/pcos/models/LR/test_predictions.csv\",\n",
        "    \"SVM\": \"/content/drive/MyDrive/pcos/models/SVM/test_predictions.csv\",\n",
        "    \"XGBoost\": \"/content/drive/MyDrive/pcos/models/XGBoost/test_predictions.csv\",\n",
        "    \"MLP\": \"/content/drive/MyDrive/pcos/models/MLP/test_predictions.csv\"\n",
        "}\n",
        "\n",
        "plt.figure(figsize=(8, 6))\n",
        "\n",
        "for model_name, file_path in models.items():\n",
        "    df = pd.read_csv(file_path)\n",
        "\n",
        "    # Find probability column (case-insensitive)\n",
        "    prob_col = None\n",
        "    for col in df.columns:\n",
        "        if \"prob\" in col.lower():\n",
        "            prob_col = col\n",
        "            break\n",
        "\n",
        "    if prob_col is None:\n",
        "        print(f\"⚠️ No probability column found for {model_name}, skipping...\")\n",
        "        continue\n",
        "\n",
        "    y_true = df[\"True\"]\n",
        "    y_prob = df[prob_col]\n",
        "\n",
        "    fpr, tpr, _ = roc_curve(y_true, y_prob)\n",
        "    roc_auc = auc(fpr, tpr)\n",
        "\n",
        "    plt.plot(fpr, tpr, lw=2, label=f\"{model_name} (AUC = {roc_auc:.2f})\")\n",
        "\n",
        "# Random baseline\n",
        "plt.plot([0, 1], [0, 1], color=\"gray\", linestyle=\"--\")\n",
        "\n",
        "plt.xlabel(\"False Positive Rate\")\n",
        "plt.ylabel(\"True Positive Rate\")\n",
        "plt.title(\"ROC Curve Comparison Across Models\")\n",
        "plt.legend(loc=\"lower right\")\n",
        "plt.show()\n"
      ],
      "metadata": {
        "colab": {
          "base_uri": "https://localhost:8080/",
          "height": 564
        },
        "id": "LJs1jX7xWVrp",
        "outputId": "997e9510-56a6-4931-cc6b-26a89d44e2bd"
      },
      "execution_count": null,
      "outputs": [
        {
          "output_type": "display_data",
          "data": {
            "text/plain": [
              "<Figure size 800x600 with 1 Axes>"
            ],
            "image/png": "[encoded data removed]"
          },
          "metadata": {}
        }
      ]
    }
  ]
}